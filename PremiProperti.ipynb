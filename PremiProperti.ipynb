{
 "cells": [
  {
   "cell_type": "code",
   "execution_count": 16,
   "id": "a41e8515",
   "metadata": {},
   "outputs": [],
   "source": [
    "import numpy as np\n",
    "import pandas as pd\n",
    "from sklearn.model_selection import train_test_split\n",
    "from sklearn.preprocessing import StandardScaler\n",
    "import tensorflow as tf"
   ]
  },
  {
   "cell_type": "code",
   "execution_count": 17,
   "id": "de339a9b",
   "metadata": {},
   "outputs": [],
   "source": [
    "# Generaset Dataset Dummy\n",
    "np.random.seed(42)\n",
    "n_samples = 5000\n",
    "\n",
    "umur_bangunan = np.random.randint(1, 100, size=n_samples)\n",
    "luas_bangunan = np.random.randint(50, 500, size=n_samples)\n",
    "tipe_material = np.random.choice([0, 1], size=n_samples)  # 0 = standar, 1 = tahan api\n",
    "lokasi_risiko = np.random.choice([0, 1], size=n_samples)  # 0 = aman, 1 = rawan bencana\n",
    "nilai_properti = np.random.uniform(100_000_000, 5_000_000_000, size=n_samples).astype(int)"
   ]
  },
  {
   "cell_type": "code",
   "execution_count": 18,
   "id": "1c8637b7",
   "metadata": {},
   "outputs": [],
   "source": [
    "# Membuat Label Risiko dan Premi\n",
    "risk_score = (\n",
    "    (umur_bangunan > 50).astype(int) +\n",
    "    (luas_bangunan > 300).astype(int) +\n",
    "    (tipe_material == 0).astype(int) +\n",
    "    lokasi_risiko\n",
    ")\n",
    "\n",
    "risk_label = pd.cut(risk_score, bins=[-1, 1, 2, 4], labels=[0, 1, 2]).astype(int)\n",
    "\n",
    "base_premi = 200_000\n",
    "premi = base_premi + (risk_label * 150_000) + (nilai_properti * 0.005)\n",
    "premi = premi.astype(int)"
   ]
  },
  {
   "cell_type": "code",
   "execution_count": 19,
   "id": "bf211b71",
   "metadata": {},
   "outputs": [],
   "source": [
    "#  Membuat DataFrame dan Membagi Data\n",
    "df = pd.DataFrame({\n",
    "    'umur_bangunan': umur_bangunan,\n",
    "    'luas_bangunan': luas_bangunan,\n",
    "    'tipe_material': tipe_material,\n",
    "    'lokasi_risiko': lokasi_risiko,\n",
    "    'nilai_properti': nilai_properti,\n",
    "    'risk_label': risk_label,\n",
    "    'premi': premi\n",
    "})\n",
    "\n",
    "features = df[['umur_bangunan', 'luas_bangunan', 'tipe_material', 'lokasi_risiko', 'nilai_properti']]\n",
    "target_risk = df['risk_label']\n",
    "target_premi = df['premi']\n",
    "\n",
    "X_train, X_test, y_risk_train, y_risk_test, y_premi_train, y_premi_test = train_test_split(\n",
    "    features, target_risk, target_premi, test_size=0.2, random_state=42\n",
    ")"
   ]
  },
  {
   "cell_type": "code",
   "execution_count": 20,
   "id": "90fa1466",
   "metadata": {},
   "outputs": [],
   "source": [
    "# Standarisasi Fitur Numerik\n",
    "scaler = StandardScaler()\n",
    "X_train_scaled = X_train.copy()\n",
    "X_test_scaled = X_test.copy()\n",
    "\n",
    "X_train_scaled[['umur_bangunan', 'luas_bangunan', 'nilai_properti']] = scaler.fit_transform(\n",
    "    X_train[['umur_bangunan', 'luas_bangunan', 'nilai_properti']]\n",
    ")\n",
    "X_test_scaled[['umur_bangunan', 'luas_bangunan', 'nilai_properti']] = scaler.transform(\n",
    "    X_test[['umur_bangunan', 'luas_bangunan', 'nilai_properti']]\n",
    ")"
   ]
  },
  {
   "cell_type": "code",
   "execution_count": 21,
   "id": "0817ea81",
   "metadata": {},
   "outputs": [],
   "source": [
    "# Membangun Model TensorFlow\n",
    "input_layer = tf.keras.Input(shape=(5,))\n",
    "x = tf.keras.layers.Dense(64, activation='relu')(input_layer)\n",
    "x = tf.keras.layers.Dense(32, activation='relu')(x)\n",
    "\n",
    "risk_output = tf.keras.layers.Dense(3, activation='softmax', name='risk_label')(x)\n",
    "premi_output = tf.keras.layers.Dense(1, activation='linear', name='premi')(x)\n",
    "\n",
    "model = tf.keras.Model(inputs=input_layer, outputs=[risk_output, premi_output])\n",
    "model.compile(\n",
    "    optimizer='adam',\n",
    "    loss={'risk_label': 'sparse_categorical_crossentropy', 'premi': 'mse'},\n",
    "    metrics={'risk_label': 'accuracy', 'premi': 'mae'}\n",
    ")"
   ]
  },
  {
   "cell_type": "code",
   "execution_count": 22,
   "id": "04f712e3",
   "metadata": {},
   "outputs": [
    {
     "name": "stdout",
     "output_type": "stream",
     "text": [
      "Epoch 1/30\n",
      "125/125 - 6s - 49ms/step - loss: 221999662104576.0000 - premi_loss: 221999662104576.0000 - premi_mae: 13068815.0000 - risk_label_accuracy: 0.3602 - risk_label_loss: 1.1817 - val_loss: 219090660622336.0000 - val_premi_loss: 219267911909376.0000 - val_premi_mae: 12985436.0000 - val_risk_label_accuracy: 0.3270 - val_risk_label_loss: 1.1406\n",
      "Epoch 2/30\n",
      "125/125 - 1s - 8ms/step - loss: 221995987894272.0000 - premi_loss: 221995987894272.0000 - premi_mae: 13068699.0000 - risk_label_accuracy: 0.3225 - risk_label_loss: 1.2151 - val_loss: 219082875994112.0000 - val_premi_loss: 219260076949504.0000 - val_premi_mae: 12985181.0000 - val_risk_label_accuracy: 0.2750 - val_risk_label_loss: 1.2279\n",
      "Epoch 3/30\n",
      "125/125 - 1s - 8ms/step - loss: 221980787736576.0000 - premi_loss: 221980787736576.0000 - premi_mae: 13068211.0000 - risk_label_accuracy: 0.3205 - risk_label_loss: 1.3109 - val_loss: 219059455000576.0000 - val_premi_loss: 219236454629376.0000 - val_premi_mae: 12984439.0000 - val_risk_label_accuracy: 0.4240 - val_risk_label_loss: 1.5460\n",
      "Epoch 4/30\n",
      "125/125 - 1s - 7ms/step - loss: 221945605914624.0000 - premi_loss: 221945605914624.0000 - premi_mae: 13067121.0000 - risk_label_accuracy: 0.3013 - risk_label_loss: 1.4710 - val_loss: 219012982112256.0000 - val_premi_loss: 219189612642304.0000 - val_premi_mae: 12982986.0000 - val_risk_label_accuracy: 0.3120 - val_risk_label_loss: 1.2992\n",
      "Epoch 5/30\n",
      "125/125 - 1s - 7ms/step - loss: 221883513438208.0000 - premi_loss: 221883513438208.0000 - premi_mae: 13065192.0000 - risk_label_accuracy: 0.3060 - risk_label_loss: 1.6698 - val_loss: 218937165873152.0000 - val_premi_loss: 219113175646208.0000 - val_premi_mae: 12980620.0000 - val_risk_label_accuracy: 0.2470 - val_risk_label_loss: 1.5052\n",
      "Epoch 6/30\n",
      "125/125 - 1s - 8ms/step - loss: 221788369846272.0000 - premi_loss: 221788369846272.0000 - premi_mae: 13062263.0000 - risk_label_accuracy: 0.3232 - risk_label_loss: 1.9435 - val_loss: 218826620796928.0000 - val_premi_loss: 219001758154752.0000 - val_premi_mae: 12977186.0000 - val_risk_label_accuracy: 0.4130 - val_risk_label_loss: 1.5887\n",
      "Epoch 7/30\n",
      "125/125 - 1s - 11ms/step - loss: 221655242637312.0000 - premi_loss: 221655242637312.0000 - premi_mae: 13058168.0000 - risk_label_accuracy: 0.3240 - risk_label_loss: 2.0547 - val_loss: 218676900921344.0000 - val_premi_loss: 218850813542400.0000 - val_premi_mae: 12972534.0000 - val_risk_label_accuracy: 0.3630 - val_risk_label_loss: 2.3423\n",
      "Epoch 8/30\n",
      "125/125 - 1s - 9ms/step - loss: 221479685849088.0000 - premi_loss: 221479685849088.0000 - premi_mae: 13052763.0000 - risk_label_accuracy: 0.3180 - risk_label_loss: 2.2247 - val_loss: 218484197818368.0000 - val_premi_loss: 218656566935552.0000 - val_premi_mae: 12966559.0000 - val_risk_label_accuracy: 0.3060 - val_risk_label_loss: 3.2149\n",
      "Epoch 9/30\n",
      "125/125 - 1s - 8ms/step - loss: 221257320628224.0000 - premi_loss: 221257320628224.0000 - premi_mae: 13045958.0000 - risk_label_accuracy: 0.3425 - risk_label_loss: 2.7516 - val_loss: 218243344105472.0000 - val_premi_loss: 218413783842816.0000 - val_premi_mae: 12959095.0000 - val_risk_label_accuracy: 0.3610 - val_risk_label_loss: 2.2605\n",
      "Epoch 10/30\n",
      "125/125 - 1s - 9ms/step - loss: 220984942526464.0000 - premi_loss: 220984942526464.0000 - premi_mae: 13037581.0000 - risk_label_accuracy: 0.3340 - risk_label_loss: 3.4271 - val_loss: 217951789645824.0000 - val_premi_loss: 218119863795712.0000 - val_premi_mae: 12950060.0000 - val_risk_label_accuracy: 0.3230 - val_risk_label_loss: 12.1946\n",
      "Epoch 11/30\n",
      "125/125 - 1s - 8ms/step - loss: 220659665862656.0000 - premi_loss: 220659665862656.0000 - premi_mae: 13027590.0000 - risk_label_accuracy: 0.3262 - risk_label_loss: 5.2512 - val_loss: 217608846573568.0000 - val_premi_loss: 217774169260032.0000 - val_premi_mae: 12939428.0000 - val_risk_label_accuracy: 0.3520 - val_risk_label_loss: 2.1237\n",
      "Epoch 12/30\n",
      "125/125 - 1s - 9ms/step - loss: 220279024386048.0000 - premi_loss: 220279024386048.0000 - premi_mae: 13015900.0000 - risk_label_accuracy: 0.3223 - risk_label_loss: 5.1761 - val_loss: 217210941341696.0000 - val_premi_loss: 217373076357120.0000 - val_premi_mae: 12927082.0000 - val_risk_label_accuracy: 0.3520 - val_risk_label_loss: 5.4322\n",
      "Epoch 13/30\n",
      "125/125 - 1s - 8ms/step - loss: 219840518291456.0000 - premi_loss: 219840518291456.0000 - premi_mae: 13002449.0000 - risk_label_accuracy: 0.3383 - risk_label_loss: 6.1999 - val_loss: 216755070828544.0000 - val_premi_loss: 216913548410880.0000 - val_premi_mae: 12912936.0000 - val_risk_label_accuracy: 0.3850 - val_risk_label_loss: 7.8626\n",
      "Epoch 14/30\n",
      "125/125 - 1s - 11ms/step - loss: 219341949763584.0000 - premi_loss: 219341949763584.0000 - premi_mae: 12987099.0000 - risk_label_accuracy: 0.3392 - risk_label_loss: 8.2430 - val_loss: 216240933044224.0000 - val_premi_loss: 216395316985856.0000 - val_premi_mae: 12896957.0000 - val_risk_label_accuracy: 0.3160 - val_risk_label_loss: 4.7704\n",
      "Epoch 15/30\n",
      "125/125 - 1s - 8ms/step - loss: 218782345723904.0000 - premi_loss: 218782345723904.0000 - premi_mae: 12969911.0000 - risk_label_accuracy: 0.3397 - risk_label_loss: 10.9665 - val_loss: 215667655573504.0000 - val_premi_loss: 215817476112384.0000 - val_premi_mae: 12879124.0000 - val_risk_label_accuracy: 0.3110 - val_risk_label_loss: 4.2893\n",
      "Epoch 16/30\n",
      "125/125 - 2s - 13ms/step - loss: 218160028450816.0000 - premi_loss: 218160028450816.0000 - premi_mae: 12950708.0000 - risk_label_accuracy: 0.3332 - risk_label_loss: 9.3476 - val_loss: 215027722223616.0000 - val_premi_loss: 215172408934400.0000 - val_premi_mae: 12859205.0000 - val_risk_label_accuracy: 0.3990 - val_risk_label_loss: 6.7279\n",
      "Epoch 17/30\n",
      "125/125 - 1s - 8ms/step - loss: 217473991311360.0000 - premi_loss: 217473991311360.0000 - premi_mae: 12929565.0000 - risk_label_accuracy: 0.3392 - risk_label_loss: 10.8929 - val_loss: 214329404162048.0000 - val_premi_loss: 214468554391552.0000 - val_premi_mae: 12837419.0000 - val_risk_label_accuracy: 0.3840 - val_risk_label_loss: 7.7296\n",
      "Epoch 18/30\n",
      "125/125 - 1s - 9ms/step - loss: 216723999424512.0000 - premi_loss: 216723999424512.0000 - premi_mae: 12906342.0000 - risk_label_accuracy: 0.3408 - risk_label_loss: 10.4117 - val_loss: 213568272203776.0000 - val_premi_loss: 213701399412736.0000 - val_premi_mae: 12813639.0000 - val_risk_label_accuracy: 0.3930 - val_risk_label_loss: 15.7444\n",
      "Epoch 19/30\n",
      "125/125 - 1s - 10ms/step - loss: 215909482364928.0000 - premi_loss: 215909482364928.0000 - premi_mae: 12881077.0000 - risk_label_accuracy: 0.3460 - risk_label_loss: 10.3086 - val_loss: 212740517920768.0000 - val_premi_loss: 212867085238272.0000 - val_premi_mae: 12787746.0000 - val_risk_label_accuracy: 0.3310 - val_risk_label_loss: 9.3457\n",
      "Epoch 20/30\n",
      "125/125 - 1s - 8ms/step - loss: 215029030846464.0000 - premi_loss: 215029030846464.0000 - premi_mae: 12853780.0000 - risk_label_accuracy: 0.3352 - risk_label_loss: 15.9153 - val_loss: 211851862343680.0000 - val_premi_loss: 211971400007680.0000 - val_premi_mae: 12759854.0000 - val_risk_label_accuracy: 0.3810 - val_risk_label_loss: 24.0777\n",
      "Epoch 21/30\n",
      "125/125 - 2s - 12ms/step - loss: 214083148185600.0000 - premi_loss: 214083148185600.0000 - premi_mae: 12824282.0000 - risk_label_accuracy: 0.3517 - risk_label_loss: 16.4408 - val_loss: 210902104145920.0000 - val_premi_loss: 211014125617152.0000 - val_premi_mae: 12729987.0000 - val_risk_label_accuracy: 0.3820 - val_risk_label_loss: 17.2397\n",
      "Epoch 22/30\n",
      "125/125 - 2s - 13ms/step - loss: 213070693531648.0000 - premi_loss: 213070693531648.0000 - premi_mae: 12792754.0000 - risk_label_accuracy: 0.3417 - risk_label_loss: 15.5096 - val_loss: 209883626471424.0000 - val_premi_loss: 209987661987840.0000 - val_premi_mae: 12697891.0000 - val_risk_label_accuracy: 0.2970 - val_risk_label_loss: 33.6845\n",
      "Epoch 23/30\n",
      "125/125 - 1s - 10ms/step - loss: 211990039494656.0000 - premi_loss: 211990039494656.0000 - premi_mae: 12758951.0000 - risk_label_accuracy: 0.3365 - risk_label_loss: 21.7596 - val_loss: 208798543249408.0000 - val_premi_loss: 208894039162880.0000 - val_premi_mae: 12663594.0000 - val_risk_label_accuracy: 0.2970 - val_risk_label_loss: 65.8142\n",
      "Epoch 24/30\n",
      "125/125 - 1s - 10ms/step - loss: 210840665980928.0000 - premi_loss: 210840665980928.0000 - premi_mae: 12722986.0000 - risk_label_accuracy: 0.3290 - risk_label_loss: 20.3595 - val_loss: 207645680074752.0000 - val_premi_loss: 207732166623232.0000 - val_premi_mae: 12627068.0000 - val_risk_label_accuracy: 0.3940 - val_risk_label_loss: 7.2705\n",
      "Epoch 25/30\n",
      "125/125 - 1s - 9ms/step - loss: 209622556213248.0000 - premi_loss: 209622556213248.0000 - premi_mae: 12684724.0000 - risk_label_accuracy: 0.3465 - risk_label_loss: 16.7693 - val_loss: 206424600739840.0000 - val_premi_loss: 206501557829632.0000 - val_premi_mae: 12588274.0000 - val_risk_label_accuracy: 0.3190 - val_risk_label_loss: 14.7220\n",
      "Epoch 26/30\n",
      "125/125 - 1s - 10ms/step - loss: 208338595872768.0000 - premi_loss: 208338595872768.0000 - premi_mae: 12644098.0000 - risk_label_accuracy: 0.3487 - risk_label_loss: 20.9563 - val_loss: 205140019642368.0000 - val_premi_loss: 205206960734208.0000 - val_premi_mae: 12547308.0000 - val_risk_label_accuracy: 0.3320 - val_risk_label_loss: 19.8233\n",
      "Epoch 27/30\n",
      "125/125 - 1s - 9ms/step - loss: 206987526668288.0000 - premi_loss: 206987526668288.0000 - premi_mae: 12601419.0000 - risk_label_accuracy: 0.3293 - risk_label_loss: 21.3134 - val_loss: 203798077243392.0000 - val_premi_loss: 203854633238528.0000 - val_premi_mae: 12504328.0000 - val_risk_label_accuracy: 0.3170 - val_risk_label_loss: 16.8295\n",
      "Epoch 28/30\n",
      "125/125 - 1s - 8ms/step - loss: 205569499594752.0000 - premi_loss: 205569499594752.0000 - premi_mae: 12556362.0000 - risk_label_accuracy: 0.3455 - risk_label_loss: 19.5194 - val_loss: 202379613962240.0000 - val_premi_loss: 202425264766976.0000 - val_premi_mae: 12458771.0000 - val_risk_label_accuracy: 0.3580 - val_risk_label_loss: 6.3368\n",
      "Epoch 29/30\n",
      "125/125 - 1s - 8ms/step - loss: 204082652381184.0000 - premi_loss: 204082652381184.0000 - premi_mae: 12509015.0000 - risk_label_accuracy: 0.3388 - risk_label_loss: 22.1818 - val_loss: 200906054303744.0000 - val_premi_loss: 200940346933248.0000 - val_premi_mae: 12411248.0000 - val_risk_label_accuracy: 0.3860 - val_risk_label_loss: 14.9571\n",
      "Epoch 30/30\n",
      "125/125 - 1s - 9ms/step - loss: 202529451278336.0000 - premi_loss: 202529451278336.0000 - premi_mae: 12459256.0000 - risk_label_accuracy: 0.3408 - risk_label_loss: 20.9210 - val_loss: 199359463424000.0000 - val_premi_loss: 199381877784576.0000 - val_premi_mae: 12361196.0000 - val_risk_label_accuracy: 0.3030 - val_risk_label_loss: 23.1782\n"
     ]
    }
   ],
   "source": [
    "# Melatih Model\n",
    "history = model.fit(\n",
    "    X_train_scaled,\n",
    "    {'risk_label': y_risk_train, 'premi': y_premi_train},\n",
    "    validation_data=(X_test_scaled, {'risk_label': y_risk_test, 'premi': y_premi_test}),\n",
    "    epochs=30,\n",
    "    batch_size=32,\n",
    "    verbose=2\n",
    ")"
   ]
  },
  {
   "cell_type": "code",
   "execution_count": 23,
   "id": "f432b55b",
   "metadata": {},
   "outputs": [
    {
     "name": "stdout",
     "output_type": "stream",
     "text": [
      "32/32 - 0s - 9ms/step - loss: 199359463424000.0000 - premi_loss: 199381877784576.0000 - premi_mae: 12361196.0000 - risk_label_accuracy: 0.3030 - risk_label_loss: 23.1782\n",
      "Test Loss dan Metrics: [199359463424000.0, 23.17821502685547, 199381877784576.0, 12361196.0, 0.30300000309944153]\n"
     ]
    }
   ],
   "source": [
    "# Evaluasi Model\n",
    "eval_results = model.evaluate(X_test_scaled, {'risk_label': y_risk_test, 'premi': y_premi_test}, verbose=2)\n",
    "print(f\"Test Loss dan Metrics: {eval_results}\")"
   ]
  },
  {
   "cell_type": "code",
   "execution_count": 24,
   "id": "cf7f7c38",
   "metadata": {},
   "outputs": [
    {
     "name": "stderr",
     "output_type": "stream",
     "text": [
      "WARNING:absl:You are saving your model as an HDF5 file via `model.save()` or `keras.saving.save_model(model)`. This file format is considered legacy. We recommend using instead the native Keras format, e.g. `model.save('my_model.keras')` or `keras.saving.save_model(model, 'my_model.keras')`. \n"
     ]
    },
    {
     "data": {
      "text/plain": [
       "['scaler_properti.pkl']"
      ]
     },
     "execution_count": 24,
     "metadata": {},
     "output_type": "execute_result"
    }
   ],
   "source": [
    "# Menyimpan Model\n",
    "model.save('model_asuransi_properti.h5')\n",
    "\n",
    "import joblib\n",
    "joblib.dump(scaler, 'scaler_properti.pkl')"
   ]
  },
  {
   "cell_type": "code",
   "execution_count": 25,
   "id": "9934ba1e",
   "metadata": {},
   "outputs": [
    {
     "name": "stdout",
     "output_type": "stream",
     "text": [
      "\u001b[1m1/1\u001b[0m \u001b[32m━━━━━━━━━━━━━━━━━━━━\u001b[0m\u001b[37m\u001b[0m \u001b[1m0s\u001b[0m 231ms/step\n",
      "Kelas Risiko: 2\n",
      "Premi: Rp 5500000\n"
     ]
    }
   ],
   "source": [
    "from tensorflow.keras.models import load_model\n",
    "import joblib\n",
    "\n",
    "model = load_model('model_asuransi_properti.h5', compile=False)\n",
    "scaler = joblib.load('scaler_properti.pkl')\n",
    "\n",
    "def prediksi_risiko_premi_properti(umur_bangunan, luas_bangunan, tipe_material, lokasi_risiko, nilai_properti, base_premi=200_000):\n",
    "    input_df = pd.DataFrame({\n",
    "        'umur_bangunan': [umur_bangunan],\n",
    "        'luas_bangunan': [luas_bangunan],\n",
    "        'tipe_material': [1 if tipe_material == \"tahan api\" else 0],\n",
    "        'lokasi_risiko': [1 if lokasi_risiko == \"rawan\" else 0],\n",
    "        'nilai_properti': [nilai_properti]\n",
    "    })\n",
    "\n",
    "    input_scaled = input_df.copy()\n",
    "    input_scaled[['umur_bangunan','luas_bangunan','nilai_properti']] = scaler.transform(\n",
    "        input_df[['umur_bangunan','luas_bangunan','nilai_properti']]\n",
    "    )\n",
    "\n",
    "    pred = model.predict(input_scaled)\n",
    "    kelas_risiko = np.argmax(pred[0], axis=1)[0]\n",
    "    premi_final = base_premi + (kelas_risiko * 150_000) + (nilai_properti * 0.005)\n",
    "    return int(kelas_risiko), int(premi_final)\n",
    "\n",
    "# Contoh penggunaan\n",
    "risk, premi = prediksi_risiko_premi_properti(umur_bangunan=30, luas_bangunan=200, tipe_material='standar', lokasi_risiko='aman', nilai_properti=1_000_000_000)\n",
    "print(f\"Kelas Risiko: {risk}\")\n",
    "print(f\"Premi: Rp {premi}\")"
   ]
  }
 ],
 "metadata": {
  "kernelspec": {
   "display_name": "fixenv",
   "language": "python",
   "name": "python3"
  },
  "language_info": {
   "codemirror_mode": {
    "name": "ipython",
    "version": 3
   },
   "file_extension": ".py",
   "mimetype": "text/x-python",
   "name": "python",
   "nbconvert_exporter": "python",
   "pygments_lexer": "ipython3",
   "version": "3.11.0"
  }
 },
 "nbformat": 4,
 "nbformat_minor": 5
}
