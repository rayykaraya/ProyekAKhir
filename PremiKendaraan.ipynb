{
 "cells": [
  {
   "cell_type": "code",
   "execution_count": 1,
   "id": "fbd937ae",
   "metadata": {},
   "outputs": [],
   "source": [
    "import numpy as np\n",
    "import pandas as pd\n",
    "from sklearn.model_selection import train_test_split\n",
    "from sklearn.preprocessing import StandardScaler\n",
    "import tensorflow as tf"
   ]
  },
  {
   "cell_type": "code",
   "execution_count": 2,
   "id": "b52c71db",
   "metadata": {},
   "outputs": [],
   "source": [
    "# Generaset Dataset Dummy\n",
    "np.random.seed(42)\n",
    "n_samples = 5000\n",
    "\n",
    "umur_kendaraan = np.random.randint(1, 15, size=n_samples)\n",
    "harga_kendaraan = np.random.randint(50_000_000, 500_000_000, size=n_samples)\n",
    "pengemudi_muda = np.random.choice([0, 1], size=n_samples)  # 1: <25 tahun\n",
    "area_risiko = np.random.choice([0, 1, 2], size=n_samples)  # 0: aman, 1: sedang, 2: rawan"
   ]
  },
  {
   "cell_type": "code",
   "execution_count": 3,
   "id": "ce643bbd",
   "metadata": {},
   "outputs": [],
   "source": [
    "# Membuat Label Risiko dan Premi\n",
    "risk_score = (\n",
    "    (umur_kendaraan > 10).astype(int) +\n",
    "    (harga_kendaraan < 150_000_000).astype(int) +\n",
    "    pengemudi_muda +\n",
    "    area_risiko\n",
    ")\n",
    "risk_label = pd.cut(risk_score, bins=[-1, 1, 3, 5], labels=[0, 1, 2]).astype(int)\n",
    "\n",
    "base_premi = 150_000\n",
    "premi = base_premi + (risk_label * 125_000) + (harga_kendaraan * 0.0035)\n",
    "premi = premi.astype(int)\n"
   ]
  },
  {
   "cell_type": "code",
   "execution_count": 4,
   "id": "7c7f9d69",
   "metadata": {},
   "outputs": [],
   "source": [
    "#  Membuat DataFrame dan Membagi Data\n",
    "df = pd.DataFrame({\n",
    "    'umur_kendaraan': umur_kendaraan,\n",
    "    'harga_kendaraan': harga_kendaraan,\n",
    "    'pengemudi_muda': pengemudi_muda,\n",
    "    'area_risiko': area_risiko,\n",
    "    'risk_label': risk_label,\n",
    "    'premi': premi\n",
    "})\n",
    "features = df[['umur_kendaraan', 'harga_kendaraan', 'pengemudi_muda', 'area_risiko']]\n",
    "target_risk = df['risk_label']\n",
    "target_premi = df['premi']\n",
    "\n",
    "X_train, X_test, y_risk_train, y_risk_test, y_premi_train, y_premi_test = train_test_split(\n",
    "    features, target_risk, target_premi, test_size=0.2, random_state=42\n",
    ")"
   ]
  },
  {
   "cell_type": "code",
   "execution_count": 5,
   "id": "e081d5d6",
   "metadata": {},
   "outputs": [],
   "source": [
    "# Standarisasi Fitur Numerik\n",
    "scaler = StandardScaler()\n",
    "X_train_scaled = X_train.copy()\n",
    "X_test_scaled = X_test.copy()\n",
    "X_train_scaled[['umur_kendaraan', 'harga_kendaraan']] = scaler.fit_transform(X_train[['umur_kendaraan', 'harga_kendaraan']])\n",
    "X_test_scaled[['umur_kendaraan', 'harga_kendaraan']] = scaler.transform(X_test[['umur_kendaraan', 'harga_kendaraan']])"
   ]
  },
  {
   "cell_type": "code",
   "execution_count": 6,
   "id": "ca110b3c",
   "metadata": {},
   "outputs": [],
   "source": [
    "# Membangun Model TensorFlow\n",
    "input_layer = tf.keras.Input(shape=(4,))\n",
    "x = tf.keras.layers.Dense(64, activation='relu')(input_layer)\n",
    "x = tf.keras.layers.Dense(32, activation='relu')(x)\n",
    "\n",
    "risk_output = tf.keras.layers.Dense(3, activation='softmax', name='risk_label')(x)\n",
    "premi_output = tf.keras.layers.Dense(1, activation='linear', name='premi')(x)\n",
    "\n",
    "model = tf.keras.Model(inputs=input_layer, outputs=[risk_output, premi_output])\n",
    "model.compile(\n",
    "    optimizer='adam',\n",
    "    loss={\n",
    "        'risk_label': 'sparse_categorical_crossentropy',\n",
    "        'premi': 'mse'\n",
    "    },\n",
    "    metrics={\n",
    "        'risk_label': 'accuracy',\n",
    "        'premi': 'mae'\n",
    "    }\n",
    ")"
   ]
  },
  {
   "cell_type": "code",
   "execution_count": 7,
   "id": "3ed3171e",
   "metadata": {},
   "outputs": [
    {
     "name": "stdout",
     "output_type": "stream",
     "text": [
      "Epoch 1/30\n",
      "125/125 - 5s - 38ms/step - loss: 1652452229120.0000 - premi_loss: 1652452229120.0000 - premi_mae: 1208980.1250 - risk_label_accuracy: 0.4683 - risk_label_loss: 1.0542 - val_loss: 1646741159936.0000 - val_premi_loss: 1643753897984.0000 - val_premi_mae: 1206026.6250 - val_risk_label_accuracy: 0.5750 - val_risk_label_loss: 0.9176\n",
      "Epoch 2/30\n",
      "125/125 - 1s - 9ms/step - loss: 1652182351872.0000 - premi_loss: 1652182351872.0000 - premi_mae: 1208877.6250 - risk_label_accuracy: 0.5698 - risk_label_loss: 0.9369 - val_loss: 1646161297408.0000 - val_premi_loss: 1643176132608.0000 - val_premi_mae: 1205808.6250 - val_risk_label_accuracy: 0.5840 - val_risk_label_loss: 0.8891\n",
      "Epoch 3/30\n",
      "125/125 - 1s - 7ms/step - loss: 1651067584512.0000 - premi_loss: 1651067584512.0000 - premi_mae: 1208464.7500 - risk_label_accuracy: 0.5845 - risk_label_loss: 0.9703 - val_loss: 1644408340480.0000 - val_premi_loss: 1641429860352.0000 - val_premi_mae: 1205160.7500 - val_risk_label_accuracy: 0.6610 - val_risk_label_loss: 0.9568\n",
      "Epoch 4/30\n",
      "125/125 - 1s - 7ms/step - loss: 1648476815360.0000 - premi_loss: 1648476815360.0000 - premi_mae: 1207513.8750 - risk_label_accuracy: 0.5907 - risk_label_loss: 0.9935 - val_loss: 1640906489856.0000 - val_premi_loss: 1637941641216.0000 - val_premi_mae: 1203872.6250 - val_risk_label_accuracy: 0.6380 - val_risk_label_loss: 0.9162\n",
      "Epoch 5/30\n",
      "125/125 - 1s - 8ms/step - loss: 1643911184384.0000 - premi_loss: 1643911184384.0000 - premi_mae: 1205840.5000 - risk_label_accuracy: 0.5650 - risk_label_loss: 1.0386 - val_loss: 1635212328960.0000 - val_premi_loss: 1632269762560.0000 - val_premi_mae: 1201782.6250 - val_risk_label_accuracy: 0.6170 - val_risk_label_loss: 1.1229\n",
      "Epoch 6/30\n",
      "125/125 - 1s - 8ms/step - loss: 1636945100800.0000 - premi_loss: 1636945100800.0000 - premi_mae: 1203289.3750 - risk_label_accuracy: 0.5335 - risk_label_loss: 1.2669 - val_loss: 1626946011136.0000 - val_premi_loss: 1624035688448.0000 - val_premi_mae: 1198744.7500 - val_risk_label_accuracy: 0.2900 - val_risk_label_loss: 1.5057\n",
      "Epoch 7/30\n",
      "125/125 - 1s - 10ms/step - loss: 1627231485952.0000 - premi_loss: 1627231485952.0000 - premi_mae: 1199722.8750 - risk_label_accuracy: 0.5270 - risk_label_loss: 1.4138 - val_loss: 1615774482432.0000 - val_premi_loss: 1612908199936.0000 - val_premi_mae: 1194631.2500 - val_risk_label_accuracy: 0.6270 - val_risk_label_loss: 0.9314\n",
      "Epoch 8/30\n",
      "125/125 - 1s - 7ms/step - loss: 1614469005312.0000 - premi_loss: 1614469005312.0000 - premi_mae: 1195035.2500 - risk_label_accuracy: 0.5357 - risk_label_loss: 1.4723 - val_loss: 1601375174656.0000 - val_premi_loss: 1598565253120.0000 - val_premi_mae: 1189318.2500 - val_risk_label_accuracy: 0.1510 - val_risk_label_loss: 2.8994\n",
      "Epoch 9/30\n",
      "125/125 - 1s - 9ms/step - loss: 1598423040000.0000 - premi_loss: 1598423040000.0000 - premi_mae: 1189110.1250 - risk_label_accuracy: 0.4835 - risk_label_loss: 3.0433 - val_loss: 1583749398528.0000 - val_premi_loss: 1581009993728.0000 - val_premi_mae: 1182775.0000 - val_risk_label_accuracy: 0.6030 - val_risk_label_loss: 1.8714\n",
      "Epoch 10/30\n",
      "125/125 - 1s - 8ms/step - loss: 1578933288960.0000 - premi_loss: 1578933288960.0000 - premi_mae: 1181878.7500 - risk_label_accuracy: 0.5090 - risk_label_loss: 2.2039 - val_loss: 1562554269696.0000 - val_premi_loss: 1559897964544.0000 - val_premi_mae: 1174867.7500 - val_risk_label_accuracy: 0.6070 - val_risk_label_loss: 2.0697\n",
      "Epoch 11/30\n",
      "125/125 - 1s - 8ms/step - loss: 1555873923072.0000 - premi_loss: 1555873923072.0000 - premi_mae: 1173263.1250 - risk_label_accuracy: 0.4983 - risk_label_loss: 2.5613 - val_loss: 1537726873600.0000 - val_premi_loss: 1535168217088.0000 - val_premi_mae: 1165532.8750 - val_risk_label_accuracy: 0.2360 - val_risk_label_loss: 2.7844\n",
      "Epoch 12/30\n",
      "125/125 - 1s - 8ms/step - loss: 1529214533632.0000 - premi_loss: 1529214533632.0000 - premi_mae: 1163219.2500 - risk_label_accuracy: 0.4745 - risk_label_loss: 5.3978 - val_loss: 1509344411648.0000 - val_premi_loss: 1506899394560.0000 - val_premi_mae: 1154760.1250 - val_risk_label_accuracy: 0.5950 - val_risk_label_loss: 4.0593\n",
      "Epoch 13/30\n",
      "125/125 - 1s - 9ms/step - loss: 1498988937216.0000 - premi_loss: 1498988937216.0000 - premi_mae: 1151713.5000 - risk_label_accuracy: 0.4868 - risk_label_loss: 4.3895 - val_loss: 1477371887616.0000 - val_premi_loss: 1475051782144.0000 - val_premi_mae: 1142503.1250 - val_risk_label_accuracy: 0.1570 - val_risk_label_loss: 4.9645\n",
      "Epoch 14/30\n",
      "125/125 - 1s - 7ms/step - loss: 1465243664384.0000 - premi_loss: 1465243664384.0000 - premi_mae: 1138706.8750 - risk_label_accuracy: 0.4778 - risk_label_loss: 4.8250 - val_loss: 1442058993664.0000 - val_premi_loss: 1439877955584.0000 - val_premi_mae: 1128781.0000 - val_risk_label_accuracy: 0.3370 - val_risk_label_loss: 4.9008\n",
      "Epoch 15/30\n",
      "125/125 - 1s - 8ms/step - loss: 1428034945024.0000 - premi_loss: 1428034945024.0000 - premi_mae: 1124199.8750 - risk_label_accuracy: 0.4638 - risk_label_loss: 7.0448 - val_loss: 1403300610048.0000 - val_premi_loss: 1401270566912.0000 - val_premi_mae: 1113517.2500 - val_risk_label_accuracy: 0.6020 - val_risk_label_loss: 4.8748\n",
      "Epoch 16/30\n",
      "125/125 - 1s - 8ms/step - loss: 1387480219648.0000 - premi_loss: 1387480219648.0000 - premi_mae: 1108165.0000 - risk_label_accuracy: 0.4660 - risk_label_loss: 9.2603 - val_loss: 1361250353152.0000 - val_premi_loss: 1359384281088.0000 - val_premi_mae: 1096698.2500 - val_risk_label_accuracy: 0.3360 - val_risk_label_loss: 4.1172\n",
      "Epoch 17/30\n",
      "125/125 - 1s - 8ms/step - loss: 1343768231936.0000 - premi_loss: 1343768231936.0000 - premi_mae: 1090564.0000 - risk_label_accuracy: 0.4753 - risk_label_loss: 11.6408 - val_loss: 1316275486720.0000 - val_premi_loss: 1314581643264.0000 - val_premi_mae: 1078389.0000 - val_risk_label_accuracy: 0.5870 - val_risk_label_loss: 18.4165\n",
      "Epoch 18/30\n",
      "125/125 - 1s - 9ms/step - loss: 1297185505280.0000 - premi_loss: 1297185505280.0000 - premi_mae: 1071456.0000 - risk_label_accuracy: 0.4730 - risk_label_loss: 10.1391 - val_loss: 1268159348736.0000 - val_premi_loss: 1266650447872.0000 - val_premi_mae: 1058426.7500 - val_risk_label_accuracy: 0.6020 - val_risk_label_loss: 2.9559\n",
      "Epoch 19/30\n",
      "125/125 - 1s - 7ms/step - loss: 1247899549696.0000 - premi_loss: 1247899549696.0000 - premi_mae: 1050858.1250 - risk_label_accuracy: 0.4712 - risk_label_loss: 9.2728 - val_loss: 1218073853952.0000 - val_premi_loss: 1216756711424.0000 - val_premi_mae: 1037179.3750 - val_risk_label_accuracy: 0.5990 - val_risk_label_loss: 6.2137\n",
      "Epoch 20/30\n",
      "125/125 - 1s - 9ms/step - loss: 1196270682112.0000 - premi_loss: 1196270682112.0000 - premi_mae: 1028772.8750 - risk_label_accuracy: 0.4700 - risk_label_loss: 16.3598 - val_loss: 1165453295616.0000 - val_premi_loss: 1164336955392.0000 - val_premi_mae: 1014314.8750 - val_risk_label_accuracy: 0.6270 - val_risk_label_loss: 4.0840\n",
      "Epoch 21/30\n",
      "125/125 - 1s - 11ms/step - loss: 1141949202432.0000 - premi_loss: 1141949202432.0000 - premi_mae: 1004883.1250 - risk_label_accuracy: 0.4753 - risk_label_loss: 9.3294 - val_loss: 1109934735360.0000 - val_premi_loss: 1109028634624.0000 - val_premi_mae: 989580.8750 - val_risk_label_accuracy: 0.5950 - val_risk_label_loss: 7.0852\n",
      "Epoch 22/30\n",
      "125/125 - 1s - 7ms/step - loss: 1085331341312.0000 - premi_loss: 1085331341312.0000 - premi_mae: 979376.1875 - risk_label_accuracy: 0.4865 - risk_label_loss: 11.1456 - val_loss: 1052697231360.0000 - val_premi_loss: 1052006416384.0000 - val_premi_mae: 963295.8125 - val_risk_label_accuracy: 0.3410 - val_risk_label_loss: 4.2837\n",
      "Epoch 23/30\n",
      "125/125 - 1s - 6ms/step - loss: 1027160866816.0000 - premi_loss: 1027160866816.0000 - premi_mae: 952381.5625 - risk_label_accuracy: 0.4733 - risk_label_loss: 11.4238 - val_loss: 994089369600.0000 - val_premi_loss: 993615675392.0000 - val_premi_mae: 935547.2500 - val_risk_label_accuracy: 0.3360 - val_risk_label_loss: 18.1208\n",
      "Epoch 24/30\n",
      "125/125 - 2s - 14ms/step - loss: 967884996608.0000 - premi_loss: 967884996608.0000 - premi_mae: 923964.0625 - risk_label_accuracy: 0.4760 - risk_label_loss: 16.0058 - val_loss: 934918750208.0000 - val_premi_loss: 934663946240.0000 - val_premi_mae: 906527.5625 - val_risk_label_accuracy: 0.6050 - val_risk_label_loss: 11.6604\n",
      "Epoch 25/30\n",
      "125/125 - 2s - 13ms/step - loss: 908084314112.0000 - premi_loss: 908084314112.0000 - premi_mae: 894141.0625 - risk_label_accuracy: 0.4667 - risk_label_loss: 10.1564 - val_loss: 875118657536.0000 - val_premi_loss: 875078483968.0000 - val_premi_mae: 876120.1875 - val_risk_label_accuracy: 0.5900 - val_risk_label_loss: 32.8251\n",
      "Epoch 26/30\n",
      "125/125 - 1s - 8ms/step - loss: 848149479424.0000 - premi_loss: 848149479424.0000 - premi_mae: 863167.5000 - risk_label_accuracy: 0.4760 - risk_label_loss: 22.0805 - val_loss: 815396814848.0000 - val_premi_loss: 815567667200.0000 - val_premi_mae: 844479.0625 - val_risk_label_accuracy: 0.6000 - val_risk_label_loss: 6.1438\n",
      "Epoch 27/30\n",
      "125/125 - 1s - 7ms/step - loss: 788565590016.0000 - premi_loss: 788565590016.0000 - premi_mae: 830986.3125 - risk_label_accuracy: 0.4627 - risk_label_loss: 17.8129 - val_loss: 756396392448.0000 - val_premi_loss: 756776304640.0000 - val_premi_mae: 811827.6875 - val_risk_label_accuracy: 0.5870 - val_risk_label_loss: 18.9723\n",
      "Epoch 28/30\n",
      "125/125 - 1s - 8ms/step - loss: 729734709248.0000 - premi_loss: 729734709248.0000 - premi_mae: 797921.5625 - risk_label_accuracy: 0.4737 - risk_label_loss: 18.0134 - val_loss: 698475413504.0000 - val_premi_loss: 699054096384.0000 - val_premi_mae: 778218.5000 - val_risk_label_accuracy: 0.3360 - val_risk_label_loss: 31.0704\n",
      "Epoch 29/30\n",
      "125/125 - 1s - 7ms/step - loss: 672127385600.0000 - premi_loss: 672127385600.0000 - premi_mae: 763737.1250 - risk_label_accuracy: 0.4683 - risk_label_loss: 16.8306 - val_loss: 641820000256.0000 - val_premi_loss: 642589786112.0000 - val_premi_mae: 743661.5625 - val_risk_label_accuracy: 0.3360 - val_risk_label_loss: 7.1437\n",
      "Epoch 30/30\n",
      "125/125 - 1s - 12ms/step - loss: 616148238336.0000 - premi_loss: 616148238336.0000 - premi_mae: 728786.2500 - risk_label_accuracy: 0.4645 - risk_label_loss: 15.6193 - val_loss: 587246010368.0000 - val_premi_loss: 588196020224.0000 - val_premi_mae: 708469.6875 - val_risk_label_accuracy: 0.3360 - val_risk_label_loss: 40.4062\n"
     ]
    }
   ],
   "source": [
    "# Melatih Model\n",
    "history = model.fit(\n",
    "    X_train_scaled,\n",
    "    {'risk_label': y_risk_train, 'premi': y_premi_train},\n",
    "    validation_data=(X_test_scaled, {'risk_label': y_risk_test, 'premi': y_premi_test}),\n",
    "    epochs=30,\n",
    "    batch_size=32,\n",
    "    verbose=2\n",
    ")"
   ]
  },
  {
   "cell_type": "code",
   "execution_count": 8,
   "id": "ff025934",
   "metadata": {},
   "outputs": [
    {
     "name": "stdout",
     "output_type": "stream",
     "text": [
      "32/32 - 0s - 7ms/step - loss: 587246010368.0000 - premi_loss: 588196020224.0000 - premi_mae: 708469.6875 - risk_label_accuracy: 0.3360 - risk_label_loss: 40.4062\n",
      "Test Loss dan Metrics: [587246010368.0, 40.406227111816406, 588196020224.0, 708469.6875, 0.335999995470047]\n"
     ]
    }
   ],
   "source": [
    "# Evaluasi Model\n",
    "eval_results = model.evaluate(X_test_scaled, {'risk_label': y_risk_test, 'premi': y_premi_test}, verbose=2)\n",
    "print(f\"Test Loss dan Metrics: {eval_results}\")"
   ]
  },
  {
   "cell_type": "code",
   "execution_count": 9,
   "id": "2636d2ce",
   "metadata": {},
   "outputs": [
    {
     "name": "stderr",
     "output_type": "stream",
     "text": [
      "WARNING:absl:You are saving your model as an HDF5 file via `model.save()` or `keras.saving.save_model(model)`. This file format is considered legacy. We recommend using instead the native Keras format, e.g. `model.save('my_model.keras')` or `keras.saving.save_model(model, 'my_model.keras')`. \n"
     ]
    },
    {
     "data": {
      "text/plain": [
       "['scaler_asuransi_kendaraan.pkl']"
      ]
     },
     "execution_count": 9,
     "metadata": {},
     "output_type": "execute_result"
    }
   ],
   "source": [
    "# Menyimpan Model\n",
    "model.save('model_asuransi_kendaraan.h5')\n",
    "\n",
    "import joblib\n",
    "joblib.dump(scaler, 'scaler_asuransi_kendaraan.pkl')"
   ]
  },
  {
   "cell_type": "code",
   "execution_count": 10,
   "id": "80ddd41a",
   "metadata": {},
   "outputs": [],
   "source": [
    "# Load Model dan Scaler untuk Prediksi\n",
    "\n",
    "from tensorflow.keras.models import load_model\n",
    "import joblib\n",
    "\n",
    "# Load model dan scaler\n",
    "model = load_model('model_asuransi_kendaraan.h5', compile=False)\n",
    "scaler = joblib.load('scaler_asuransi_kendaraan.pkl')\n",
    "\n",
    "# Fungsi prediksi risiko dan premi baru\n",
    "def prediksi_risiko_premi_kendaraan(umur_kendaraan, harga_kendaraan, pengemudi_muda, area_risiko,\n",
    "                                    base_premi=150_000):\n",
    "    input_df = pd.DataFrame({\n",
    "        'umur_kendaraan': [umur_kendaraan],\n",
    "        'harga_kendaraan': [harga_kendaraan],\n",
    "        'pengemudi_muda': [pengemudi_muda],\n",
    "        'area_risiko': [area_risiko]\n",
    "    })\n",
    "\n",
    "    input_scaled = input_df.copy()\n",
    "    input_scaled[['umur_kendaraan', 'harga_kendaraan']] = scaler.transform(input_df[['umur_kendaraan', 'harga_kendaraan']])\n",
    "\n",
    "    prediksi = model.predict(input_scaled)\n",
    "    kelas_risiko = np.argmax(prediksi[0], axis=1)[0]\n",
    "    premi_final = base_premi + (kelas_risiko * 125_000) + (harga_kendaraan * 0.0035)\n",
    "\n",
    "    return kelas_risiko, int(premi_final)"
   ]
  }
 ],
 "metadata": {
  "kernelspec": {
   "display_name": "fixenv",
   "language": "python",
   "name": "python3"
  },
  "language_info": {
   "codemirror_mode": {
    "name": "ipython",
    "version": 3
   },
   "file_extension": ".py",
   "mimetype": "text/x-python",
   "name": "python",
   "nbconvert_exporter": "python",
   "pygments_lexer": "ipython3",
   "version": "3.11.0"
  }
 },
 "nbformat": 4,
 "nbformat_minor": 5
}
