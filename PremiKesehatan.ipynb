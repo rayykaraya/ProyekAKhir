{
 "cells": [
  {
   "cell_type": "code",
   "execution_count": 1,
   "id": "081deef2",
   "metadata": {},
   "outputs": [],
   "source": [
    "import numpy as np\n",
    "import pandas as pd\n",
    "from sklearn.model_selection import train_test_split\n",
    "from sklearn.preprocessing import StandardScaler\n",
    "import tensorflow as tf"
   ]
  },
  {
   "cell_type": "code",
   "execution_count": 2,
   "id": "a602d951",
   "metadata": {},
   "outputs": [],
   "source": [
    "# Generaset Dataset Dummy\n",
    "np.random.seed(42)\n",
    "n_samples = 5000\n",
    "\n",
    "umur = np.random.randint(18, 70, size=n_samples)\n",
    "penghasilan = np.random.randint(3_000_000, 15_000_000, size=n_samples)\n",
    "merokok = np.random.choice([0, 1], size=n_samples)\n",
    "bmi = np.round(np.random.normal(25, 5, size=n_samples), 1)\n",
    "penyakit_kronis = np.random.choice([0, 1], size=n_samples)"
   ]
  },
  {
   "cell_type": "code",
   "execution_count": 3,
   "id": "647101fa",
   "metadata": {},
   "outputs": [],
   "source": [
    "# Membuat Label Risiko dan Premi\n",
    "risk_score = (\n",
    "    (umur > 50).astype(int) +\n",
    "    (bmi > 30).astype(int) +\n",
    "    merokok +\n",
    "    penyakit_kronis\n",
    ")\n",
    "risk_label = pd.cut(risk_score, bins=[-1, 1, 2, 4], labels=[0, 1, 2]).astype(int)\n",
    "\n",
    "base_premi = 100_000\n",
    "premi = base_premi + (risk_label * 100_000) + (penghasilan * 0.01)\n",
    "premi = premi.astype(int)"
   ]
  },
  {
   "cell_type": "code",
   "execution_count": 4,
   "id": "b2f0bf22",
   "metadata": {},
   "outputs": [],
   "source": [
    "#  Membuat DataFrame dan Membagi Data\n",
    "df = pd.DataFrame({\n",
    "    'umur': umur,\n",
    "    'penghasilan': penghasilan,\n",
    "    'merokok': merokok,\n",
    "    'bmi': bmi,\n",
    "    'penyakit_kronis': penyakit_kronis,\n",
    "    'risk_label': risk_label,\n",
    "    'premi': premi\n",
    "})\n",
    "\n",
    "\n",
    "features = df[['umur', 'penghasilan', 'merokok', 'bmi', 'penyakit_kronis']]\n",
    "target_risk = df['risk_label']\n",
    "target_premi = df['premi']\n",
    "\n",
    "X_train, X_test, y_risk_train, y_risk_test, y_premi_train, y_premi_test = train_test_split(\n",
    "    features, target_risk, target_premi, test_size=0.2, random_state=42\n",
    ")"
   ]
  },
  {
   "cell_type": "code",
   "execution_count": 5,
   "id": "75a8fdb7",
   "metadata": {},
   "outputs": [],
   "source": [
    "# Standarisasi Fitur Numerik\n",
    "scaler = StandardScaler()\n",
    "X_train_scaled = X_train.copy()\n",
    "X_test_scaled = X_test.copy()\n",
    "\n",
    "X_train_scaled[['umur', 'penghasilan', 'bmi']] = scaler.fit_transform(X_train[['umur', 'penghasilan', 'bmi']])\n",
    "X_test_scaled[['umur', 'penghasilan', 'bmi']] = scaler.transform(X_test[['umur', 'penghasilan', 'bmi']])\n"
   ]
  },
  {
   "cell_type": "code",
   "execution_count": 6,
   "id": "17e2bd67",
   "metadata": {},
   "outputs": [],
   "source": [
    "# Membangun Model TensorFlow\n",
    "input_layer = tf.keras.Input(shape=(5,))\n",
    "\n",
    "x = tf.keras.layers.Dense(64, activation='relu')(input_layer)\n",
    "x = tf.keras.layers.Dense(32, activation='relu')(x)\n",
    "\n",
    "risk_output = tf.keras.layers.Dense(3, activation='softmax', name='risk_label')(x)\n",
    "premi_output = tf.keras.layers.Dense(1, activation='linear', name='premi')(x)\n",
    "\n",
    "model = tf.keras.Model(inputs=input_layer, outputs=[risk_output, premi_output])\n",
    "model.compile(\n",
    "    optimizer='adam',\n",
    "    loss={\n",
    "        'risk_label': 'sparse_categorical_crossentropy',  # klasifikasi multi kelas\n",
    "        'premi': 'mse'  # regresi nilai kontinu\n",
    "    },\n",
    "    metrics={\n",
    "        'risk_label': 'accuracy',\n",
    "        'premi': 'mae'  # mean absolute error, supaya mudah dimengerti error-nya\n",
    "    }\n",
    ")"
   ]
  },
  {
   "cell_type": "code",
   "execution_count": 7,
   "id": "2b0f955f",
   "metadata": {},
   "outputs": [
    {
     "name": "stdout",
     "output_type": "stream",
     "text": [
      "Epoch 1/30\n",
      "125/125 - 6s - 51ms/step - loss: 71858872320.0000 - premi_loss: 71858872320.0000 - premi_mae: 255665.5156 - risk_label_accuracy: 0.3293 - risk_label_loss: 1.1318 - val_loss: 71003078656.0000 - val_premi_loss: 71208681472.0000 - val_premi_mae: 253752.3750 - val_risk_label_accuracy: 0.3350 - val_risk_label_loss: 1.1225\n",
      "Epoch 2/30\n",
      "125/125 - 1s - 9ms/step - loss: 71786962944.0000 - premi_loss: 71786962944.0000 - premi_mae: 255537.7188 - risk_label_accuracy: 0.3918 - risk_label_loss: 1.1446 - val_loss: 70851510272.0000 - val_premi_loss: 71057121280.0000 - val_premi_mae: 253484.5000 - val_risk_label_accuracy: 0.4600 - val_risk_label_loss: 1.2063\n",
      "Epoch 3/30\n",
      "125/125 - 1s - 8ms/step - loss: 71493689344.0000 - premi_loss: 71493689344.0000 - premi_mae: 255025.6875 - risk_label_accuracy: 0.3758 - risk_label_loss: 1.2030 - val_loss: 70399287296.0000 - val_premi_loss: 70604652544.0000 - val_premi_mae: 252695.9688 - val_risk_label_accuracy: 0.3100 - val_risk_label_loss: 1.3673\n",
      "Epoch 4/30\n",
      "125/125 - 1s - 7ms/step - loss: 70814744576.0000 - premi_loss: 70814744576.0000 - premi_mae: 253848.5938 - risk_label_accuracy: 0.3865 - risk_label_loss: 1.3203 - val_loss: 69490466816.0000 - val_premi_loss: 69695004672.0000 - val_premi_mae: 251119.4219 - val_risk_label_accuracy: 0.3890 - val_risk_label_loss: 1.7761\n",
      "Epoch 5/30\n",
      "125/125 - 1s - 9ms/step - loss: 69613887488.0000 - premi_loss: 69613887488.0000 - premi_mae: 251763.8594 - risk_label_accuracy: 0.3850 - risk_label_loss: 1.4674 - val_loss: 68020654080.0000 - val_premi_loss: 68223672320.0000 - val_premi_mae: 248559.2344 - val_risk_label_accuracy: 0.4240 - val_risk_label_loss: 1.5249\n",
      "Epoch 6/30\n",
      "125/125 - 1s - 7ms/step - loss: 67799371776.0000 - premi_loss: 67799371776.0000 - premi_mae: 248591.5625 - risk_label_accuracy: 0.4185 - risk_label_loss: 1.6324 - val_loss: 65912180736.0000 - val_premi_loss: 66112585728.0000 - val_premi_mae: 244847.7500 - val_risk_label_accuracy: 0.4990 - val_risk_label_loss: 2.3713\n",
      "Epoch 7/30\n",
      "125/125 - 1s - 8ms/step - loss: 65313562624.0000 - premi_loss: 65313562624.0000 - premi_mae: 244176.0781 - risk_label_accuracy: 0.4080 - risk_label_loss: 1.9366 - val_loss: 63128879104.0000 - val_premi_loss: 63325356032.0000 - val_premi_mae: 239856.0781 - val_risk_label_accuracy: 0.3620 - val_risk_label_loss: 3.1661\n",
      "Epoch 8/30\n",
      "125/125 - 1s - 7ms/step - loss: 62141698048.0000 - premi_loss: 62141698048.0000 - premi_mae: 238407.7812 - risk_label_accuracy: 0.4153 - risk_label_loss: 2.1524 - val_loss: 59674337280.0000 - val_premi_loss: 59865812992.0000 - val_premi_mae: 233499.7656 - val_risk_label_accuracy: 0.4180 - val_risk_label_loss: 1.2742\n",
      "Epoch 9/30\n",
      "125/125 - 1s - 7ms/step - loss: 58303762432.0000 - premi_loss: 58303762432.0000 - premi_mae: 231245.2031 - risk_label_accuracy: 0.4300 - risk_label_loss: 2.1896 - val_loss: 55595401216.0000 - val_premi_loss: 55780798464.0000 - val_premi_mae: 225731.2188 - val_risk_label_accuracy: 0.5130 - val_risk_label_loss: 1.3029\n",
      "Epoch 10/30\n",
      "125/125 - 1s - 7ms/step - loss: 53879676928.0000 - premi_loss: 53879676928.0000 - premi_mae: 222621.6562 - risk_label_accuracy: 0.4108 - risk_label_loss: 3.3590 - val_loss: 50989441024.0000 - val_premi_loss: 51167170560.0000 - val_premi_mae: 216572.1562 - val_risk_label_accuracy: 0.4970 - val_risk_label_loss: 3.1675\n",
      "Epoch 11/30\n",
      "125/125 - 1s - 7ms/step - loss: 48972251136.0000 - premi_loss: 48972251136.0000 - premi_mae: 212631.2969 - risk_label_accuracy: 0.4000 - risk_label_loss: 3.4087 - val_loss: 45977006080.0000 - val_premi_loss: 46145687552.0000 - val_premi_mae: 206057.8438 - val_risk_label_accuracy: 0.3400 - val_risk_label_loss: 2.1684\n",
      "Epoch 12/30\n",
      "125/125 - 1s - 7ms/step - loss: 43729264640.0000 - premi_loss: 43729264640.0000 - premi_mae: 201284.6250 - risk_label_accuracy: 0.4105 - risk_label_loss: 7.4859 - val_loss: 40719298560.0000 - val_premi_loss: 40877899776.0000 - val_premi_mae: 194301.1406 - val_risk_label_accuracy: 0.3480 - val_risk_label_loss: 9.7822\n",
      "Epoch 13/30\n",
      "125/125 - 1s - 12ms/step - loss: 38322180096.0000 - premi_loss: 38322180096.0000 - premi_mae: 188711.5938 - risk_label_accuracy: 0.3997 - risk_label_loss: 6.0198 - val_loss: 35371577344.0000 - val_premi_loss: 35519082496.0000 - val_premi_mae: 181396.6250 - val_risk_label_accuracy: 0.4080 - val_risk_label_loss: 5.9813\n",
      "Epoch 14/30\n",
      "125/125 - 1s - 8ms/step - loss: 32937654272.0000 - premi_loss: 32937654272.0000 - premi_mae: 175064.7969 - risk_label_accuracy: 0.3792 - risk_label_loss: 8.1123 - val_loss: 30110937088.0000 - val_premi_loss: 30246168576.0000 - val_premi_mae: 167535.4219 - val_risk_label_accuracy: 0.3590 - val_risk_label_loss: 6.9826\n",
      "Epoch 15/30\n",
      "125/125 - 1s - 9ms/step - loss: 27730601984.0000 - premi_loss: 27730601984.0000 - premi_mae: 160691.8125 - risk_label_accuracy: 0.4062 - risk_label_loss: 6.2866 - val_loss: 25152239616.0000 - val_premi_loss: 25274636288.0000 - val_premi_mae: 153056.6094 - val_risk_label_accuracy: 0.4160 - val_risk_label_loss: 7.7746\n",
      "Epoch 16/30\n",
      "125/125 - 1s - 7ms/step - loss: 22875101184.0000 - premi_loss: 22875101184.0000 - premi_mae: 145673.5156 - risk_label_accuracy: 0.3935 - risk_label_loss: 7.7977 - val_loss: 20576057344.0000 - val_premi_loss: 20685529088.0000 - val_premi_mae: 138039.2188 - val_risk_label_accuracy: 0.5110 - val_risk_label_loss: 7.5659\n",
      "Epoch 17/30\n",
      "125/125 - 1s - 7ms/step - loss: 18506668032.0000 - premi_loss: 18506668032.0000 - premi_mae: 130300.9609 - risk_label_accuracy: 0.4072 - risk_label_loss: 6.6571 - val_loss: 16540487680.0000 - val_premi_loss: 16636835840.0000 - val_premi_mae: 122914.7109 - val_risk_label_accuracy: 0.2350 - val_risk_label_loss: 6.5144\n",
      "Epoch 18/30\n",
      "125/125 - 1s - 7ms/step - loss: 14716377088.0000 - premi_loss: 14716377088.0000 - premi_mae: 115012.0078 - risk_label_accuracy: 0.3940 - risk_label_loss: 9.6291 - val_loss: 13096949760.0000 - val_premi_loss: 13180723200.0000 - val_premi_mae: 107935.0234 - val_risk_label_accuracy: 0.3700 - val_risk_label_loss: 12.5810\n",
      "Epoch 19/30\n",
      "125/125 - 1s - 8ms/step - loss: 11551813632.0000 - premi_loss: 11551813632.0000 - premi_mae: 100113.8516 - risk_label_accuracy: 0.3880 - risk_label_loss: 13.1470 - val_loss: 10277668864.0000 - val_premi_loss: 10349449216.0000 - val_premi_mae: 93548.9375 - val_risk_label_accuracy: 0.5040 - val_risk_label_loss: 4.9183\n",
      "Epoch 20/30\n",
      "125/125 - 1s - 10ms/step - loss: 9015953408.0000 - premi_loss: 9015953408.0000 - premi_mae: 86035.8438 - risk_label_accuracy: 0.4137 - risk_label_loss: 7.3587 - val_loss: 8059644928.0000 - val_premi_loss: 8120355840.0000 - val_premi_mae: 80277.1875 - val_risk_label_accuracy: 0.5110 - val_risk_label_loss: 11.3030\n",
      "Epoch 21/30\n",
      "125/125 - 1s - 7ms/step - loss: 7064979968.0000 - premi_loss: 7064979968.0000 - premi_mae: 73561.5391 - risk_label_accuracy: 0.3965 - risk_label_loss: 10.9417 - val_loss: 6384653824.0000 - val_premi_loss: 6435251712.0000 - val_premi_mae: 68796.1797 - val_risk_label_accuracy: 0.2080 - val_risk_label_loss: 15.7192\n",
      "Epoch 22/30\n",
      "125/125 - 1s - 8ms/step - loss: 5621934080.0000 - premi_loss: 5621934080.0000 - premi_mae: 63277.1562 - risk_label_accuracy: 0.3945 - risk_label_loss: 9.3796 - val_loss: 5164814336.0000 - val_premi_loss: 5206568448.0000 - val_premi_mae: 59532.8281 - val_risk_label_accuracy: 0.3690 - val_risk_label_loss: 11.5510\n",
      "Epoch 23/30\n",
      "125/125 - 1s - 7ms/step - loss: 4597459456.0000 - premi_loss: 4597459456.0000 - premi_mae: 55450.7812 - risk_label_accuracy: 0.3783 - risk_label_loss: 7.0295 - val_loss: 4318453760.0000 - val_premi_loss: 4352650240.0000 - val_premi_mae: 53002.5625 - val_risk_label_accuracy: 0.4790 - val_risk_label_loss: 2.0941\n",
      "Epoch 24/30\n",
      "125/125 - 1s - 7ms/step - loss: 3896902144.0000 - premi_loss: 3896902144.0000 - premi_mae: 49890.0352 - risk_label_accuracy: 0.3735 - risk_label_loss: 8.4775 - val_loss: 3740683520.0000 - val_premi_loss: 3768552704.0000 - val_premi_mae: 48586.4219 - val_risk_label_accuracy: 0.5110 - val_risk_label_loss: 14.2627\n",
      "Epoch 25/30\n",
      "125/125 - 1s - 6ms/step - loss: 3432381696.0000 - premi_loss: 3432381696.0000 - premi_mae: 46262.1016 - risk_label_accuracy: 0.3880 - risk_label_loss: 8.6189 - val_loss: 3358743552.0000 - val_premi_loss: 3381474048.0000 - val_premi_mae: 45793.6719 - val_risk_label_accuracy: 0.2470 - val_risk_label_loss: 4.5984\n",
      "Epoch 26/30\n",
      "125/125 - 1s - 6ms/step - loss: 3130781440.0000 - premi_loss: 3130781440.0000 - premi_mae: 43968.7070 - risk_label_accuracy: 0.3935 - risk_label_loss: 7.1256 - val_loss: 3107822592.0000 - val_premi_loss: 3126627584.0000 - val_premi_mae: 44025.9570 - val_risk_label_accuracy: 0.2290 - val_risk_label_loss: 10.8758\n",
      "Epoch 27/30\n",
      "125/125 - 1s - 7ms/step - loss: 2933282816.0000 - premi_loss: 2933282816.0000 - premi_mae: 42538.6875 - risk_label_accuracy: 0.3975 - risk_label_loss: 7.8808 - val_loss: 2939017728.0000 - val_premi_loss: 2954764800.0000 - val_premi_mae: 42894.8281 - val_risk_label_accuracy: 0.5090 - val_risk_label_loss: 5.8901\n",
      "Epoch 28/30\n",
      "125/125 - 1s - 6ms/step - loss: 2800608768.0000 - premi_loss: 2800608768.0000 - premi_mae: 41635.2031 - risk_label_accuracy: 0.3927 - risk_label_loss: 7.6870 - val_loss: 2819407104.0000 - val_premi_loss: 2832741888.0000 - val_premi_mae: 42126.6250 - val_risk_label_accuracy: 0.5090 - val_risk_label_loss: 7.1328\n",
      "Epoch 29/30\n",
      "125/125 - 1s - 6ms/step - loss: 2707086848.0000 - premi_loss: 2707086848.0000 - premi_mae: 41052.8750 - risk_label_accuracy: 0.3750 - risk_label_loss: 10.6414 - val_loss: 2734275328.0000 - val_premi_loss: 2746310912.0000 - val_premi_mae: 41587.4531 - val_risk_label_accuracy: 0.2780 - val_risk_label_loss: 7.6148\n",
      "Epoch 30/30\n",
      "125/125 - 1s - 6ms/step - loss: 2636642048.0000 - premi_loss: 2636642048.0000 - premi_mae: 40664.5156 - risk_label_accuracy: 0.3792 - risk_label_loss: 7.4738 - val_loss: 2663696896.0000 - val_premi_loss: 2674637568.0000 - val_premi_mae: 41172.2812 - val_risk_label_accuracy: 0.5110 - val_risk_label_loss: 24.0629\n"
     ]
    }
   ],
   "source": [
    "# Melatih Model\n",
    "history = model.fit(\n",
    "    X_train_scaled,\n",
    "    {'risk_label': y_risk_train, 'premi': y_premi_train},\n",
    "    validation_data=(X_test_scaled, {'risk_label': y_risk_test, 'premi': y_premi_test}),\n",
    "    epochs=30,\n",
    "    batch_size=32,\n",
    "    verbose=2\n",
    ")"
   ]
  },
  {
   "cell_type": "code",
   "execution_count": 8,
   "id": "925ccbf9",
   "metadata": {},
   "outputs": [
    {
     "name": "stdout",
     "output_type": "stream",
     "text": [
      "32/32 - 0s - 8ms/step - loss: 2663696896.0000 - premi_loss: 2674637568.0000 - premi_mae: 41172.2812 - risk_label_accuracy: 0.5110 - risk_label_loss: 24.0629\n",
      "Test Loss dan Metrics: [2663696896.0, 24.062917709350586, 2674637568.0, 41172.28125, 0.5109999775886536]\n"
     ]
    }
   ],
   "source": [
    "# Evaluasi Model\n",
    "eval_results = model.evaluate(X_test_scaled, {'risk_label': y_risk_test, 'premi': y_premi_test}, verbose=2)\n",
    "print(f\"Test Loss dan Metrics: {eval_results}\")"
   ]
  },
  {
   "cell_type": "code",
   "execution_count": 9,
   "id": "1e3c0508",
   "metadata": {},
   "outputs": [
    {
     "name": "stderr",
     "output_type": "stream",
     "text": [
      "WARNING:absl:You are saving your model as an HDF5 file via `model.save()` or `keras.saving.save_model(model)`. This file format is considered legacy. We recommend using instead the native Keras format, e.g. `model.save('my_model.keras')` or `keras.saving.save_model(model, 'my_model.keras')`. \n"
     ]
    },
    {
     "data": {
      "text/plain": [
       "['scaler_asuransi_kesehatan.pkl']"
      ]
     },
     "execution_count": 9,
     "metadata": {},
     "output_type": "execute_result"
    }
   ],
   "source": [
    "# Menyimpan Model\n",
    "model.save('model_asuransi_kesehatan.h5')\n",
    "\n",
    "import joblib\n",
    "joblib.dump(scaler, 'scaler_asuransi_kesehatan.pkl')"
   ]
  },
  {
   "cell_type": "code",
   "execution_count": 12,
   "id": "383ed898",
   "metadata": {},
   "outputs": [],
   "source": [
    "# Load Model dan Scaler untuk Prediksi\n",
    "\n",
    "from tensorflow.keras.models import load_model\n",
    "import joblib\n",
    "\n",
    "# Load model dan scaler\n",
    "model = load_model('model_asuransi_kesehatan.h5', compile=False)\n",
    "\n",
    "scaler = joblib.load('scaler_asuransi_kesehatan.pkl')\n",
    "\n",
    "# Fungsi prediksi risiko dan premi baru\n",
    "def prediksi_risiko_premi(umur, penghasilan, merokok, bmi, penyakit_kronis, base_premi=100_000):\n",
    "    input_df = pd.DataFrame({\n",
    "        'umur': [umur],\n",
    "        'penghasilan': [penghasilan],\n",
    "        'merokok': [1 if merokok else 0],\n",
    "        'bmi': [bmi],\n",
    "        'penyakit_kronis': [1 if penyakit_kronis else 0]\n",
    "    })\n",
    "    \n",
    "    # Standarisasi fitur numerik\n",
    "    input_scaled = input_df.copy()\n",
    "    input_scaled[['umur','penghasilan','bmi']] = scaler.transform(input_df[['umur','penghasilan','bmi']])\n",
    "    \n",
    "    # Prediksi\n",
    "    prediksi = model.predict(input_scaled)\n",
    "    kelas_risiko = np.argmax(prediksi[0], axis=1)[0]\n",
    "    \n",
    "    # Hitung premi akhir\n",
    "    premi_final = base_premi + (kelas_risiko * 100_000) + (penghasilan * 0.01)\n",
    "    \n",
    "    return kelas_risiko, int(premi_final)\n"
   ]
  },
  {
   "cell_type": "code",
   "execution_count": 13,
   "id": "a86ba7f4",
   "metadata": {},
   "outputs": [
    {
     "name": "stdout",
     "output_type": "stream",
     "text": [
      "\u001b[1m1/1\u001b[0m \u001b[32m━━━━━━━━━━━━━━━━━━━━\u001b[0m\u001b[37m\u001b[0m \u001b[1m0s\u001b[0m 170ms/step\n",
      "Kelas Risiko: 0\n",
      "Perkiraan Premi: Rp 190000\n"
     ]
    }
   ],
   "source": [
    "# Contoh input user\n",
    "umur = 18\n",
    "penghasilan = 9000000\n",
    "merokok = True\n",
    "bmi = 28\n",
    "penyakit_kronis = False\n",
    "\n",
    "kelas_risiko, premi = prediksi_risiko_premi(umur, penghasilan, merokok, bmi, penyakit_kronis)\n",
    "\n",
    "print(f'Kelas Risiko: {kelas_risiko}')   # 0 = rendah, 1 = sedang, 2 = tinggi (sesuai label)\n",
    "print(f'Perkiraan Premi: Rp {premi}')"
   ]
  }
 ],
 "metadata": {
  "kernelspec": {
   "display_name": "fixenv",
   "language": "python",
   "name": "python3"
  },
  "language_info": {
   "codemirror_mode": {
    "name": "ipython",
    "version": 3
   },
   "file_extension": ".py",
   "mimetype": "text/x-python",
   "name": "python",
   "nbconvert_exporter": "python",
   "pygments_lexer": "ipython3",
   "version": "3.11.0"
  }
 },
 "nbformat": 4,
 "nbformat_minor": 5
}
